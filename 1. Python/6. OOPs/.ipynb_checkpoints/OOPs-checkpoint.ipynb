{
 "cells": [
  {
   "cell_type": "code",
   "execution_count": 4,
   "id": "a1685992",
   "metadata": {},
   "outputs": [],
   "source": [
    "class Student:\n",
    "    pass\n",
    "\n",
    "s1 = Student()\n",
    "s2 = Student()\n",
    "s3 = Student()"
   ]
  },
  {
   "cell_type": "code",
   "execution_count": 7,
   "id": "bbd01bc9",
   "metadata": {},
   "outputs": [],
   "source": [
    "s1.name = \"Hrishabh Jain\"\n",
    "s1.age = 20"
   ]
  },
  {
   "cell_type": "code",
   "execution_count": 8,
   "id": "425822e3",
   "metadata": {},
   "outputs": [],
   "source": [
    "s2.rollNumber = 30"
   ]
  },
  {
   "cell_type": "code",
   "execution_count": 9,
   "id": "c3034a91",
   "metadata": {},
   "outputs": [],
   "source": [
    "s3.age = 21"
   ]
  },
  {
   "cell_type": "code",
   "execution_count": 10,
   "id": "2b59ee4d",
   "metadata": {},
   "outputs": [
    {
     "name": "stdout",
     "output_type": "stream",
     "text": [
      "{'name': 'Hrishabh Jain', 'age': 20}\n",
      "{'rollNumber': 30}\n",
      "{'age': 21}\n"
     ]
    }
   ],
   "source": [
    "print(s1.__dict__)\n",
    "print(s2.__dict__)\n",
    "print(s3.__dict__)"
   ]
  },
  {
   "cell_type": "code",
   "execution_count": 11,
   "id": "22897edd",
   "metadata": {},
   "outputs": [
    {
     "name": "stdout",
     "output_type": "stream",
     "text": [
      "{}\n"
     ]
    }
   ],
   "source": [
    "s4 = Student()\n",
    "print(s4.__dict__)"
   ]
  },
  {
   "cell_type": "code",
   "execution_count": 13,
   "id": "fae86b84",
   "metadata": {},
   "outputs": [
    {
     "name": "stdout",
     "output_type": "stream",
     "text": [
      "Hrishabh Jain\n"
     ]
    }
   ],
   "source": [
    "print(s1.name)"
   ]
  },
  {
   "cell_type": "code",
   "execution_count": 15,
   "id": "64d109a1",
   "metadata": {},
   "outputs": [
    {
     "name": "stdout",
     "output_type": "stream",
     "text": [
      "True\n",
      "False\n"
     ]
    }
   ],
   "source": [
    "print(hasattr(s1, \"name\"))\n",
    "print(hasattr(s2, \"name\"))"
   ]
  },
  {
   "cell_type": "code",
   "execution_count": 16,
   "id": "6160c4f4",
   "metadata": {},
   "outputs": [
    {
     "name": "stdout",
     "output_type": "stream",
     "text": [
      "Hrishabh Jain\n",
      "test\n"
     ]
    }
   ],
   "source": [
    "print(getattr(s1, \"name\"))\n",
    "print(getattr(s2, \"name\", \"test\"))"
   ]
  },
  {
   "cell_type": "code",
   "execution_count": 17,
   "id": "f909d81d",
   "metadata": {},
   "outputs": [],
   "source": [
    "setattr(s1, \"rollNumber\", 31)"
   ]
  },
  {
   "cell_type": "code",
   "execution_count": 19,
   "id": "28664f23",
   "metadata": {},
   "outputs": [
    {
     "data": {
      "text/plain": [
       "31"
      ]
     },
     "execution_count": 19,
     "metadata": {},
     "output_type": "execute_result"
    }
   ],
   "source": [
    "s1.rollNumber"
   ]
  },
  {
   "cell_type": "code",
   "execution_count": 20,
   "id": "b5bbf529",
   "metadata": {},
   "outputs": [],
   "source": [
    "delattr(s1, \"rollNumber\")"
   ]
  },
  {
   "cell_type": "code",
   "execution_count": 21,
   "id": "54200baf",
   "metadata": {},
   "outputs": [
    {
     "ename": "AttributeError",
     "evalue": "'Student' object has no attribute 'rollNumber'",
     "output_type": "error",
     "traceback": [
      "\u001b[0;31m---------------------------------------------------------------------------\u001b[0m",
      "\u001b[0;31mAttributeError\u001b[0m                            Traceback (most recent call last)",
      "\u001b[0;32m/var/folders/8x/lnjll14x2yl0_pfk5q7znhhw0000gn/T/ipykernel_44634/3002132957.py\u001b[0m in \u001b[0;36m<module>\u001b[0;34m\u001b[0m\n\u001b[0;32m----> 1\u001b[0;31m \u001b[0ms1\u001b[0m\u001b[0;34m.\u001b[0m\u001b[0mrollNumber\u001b[0m\u001b[0;34m\u001b[0m\u001b[0;34m\u001b[0m\u001b[0m\n\u001b[0m",
      "\u001b[0;31mAttributeError\u001b[0m: 'Student' object has no attribute 'rollNumber'"
     ]
    }
   ],
   "source": [
    "s1.rollNumber"
   ]
  },
  {
   "cell_type": "code",
   "execution_count": 22,
   "id": "53a36222",
   "metadata": {},
   "outputs": [],
   "source": [
    "Student.totalStudents = 60"
   ]
  },
  {
   "cell_type": "code",
   "execution_count": 23,
   "id": "d2b0e5f4",
   "metadata": {},
   "outputs": [
    {
     "data": {
      "text/plain": [
       "60"
      ]
     },
     "execution_count": 23,
     "metadata": {},
     "output_type": "execute_result"
    }
   ],
   "source": [
    "Student.totalStudents"
   ]
  },
  {
   "cell_type": "code",
   "execution_count": 24,
   "id": "a1f7face",
   "metadata": {},
   "outputs": [
    {
     "name": "stdout",
     "output_type": "stream",
     "text": [
      "{'__module__': '__main__', '__dict__': <attribute '__dict__' of 'Student' objects>, '__weakref__': <attribute '__weakref__' of 'Student' objects>, '__doc__': None, 'totalStudents': 60}\n"
     ]
    }
   ],
   "source": [
    "print(Student.__dict__)"
   ]
  },
  {
   "cell_type": "code",
   "execution_count": 34,
   "id": "e459ee31",
   "metadata": {},
   "outputs": [
    {
     "name": "stdout",
     "output_type": "stream",
     "text": [
      "Hello\n",
      "Hi, I am Hrishabh Jain\n"
     ]
    }
   ],
   "source": [
    "class Student:\n",
    "    totalStudents = 60\n",
    "    classTeacherName = \"Suresh\"\n",
    "    \n",
    "    def printHello(self):\n",
    "        print(\"Hello\")\n",
    "    \n",
    "    def printName(self):\n",
    "        print(name)\n",
    "    \n",
    "    def string(self, str):\n",
    "        print(str)\n",
    "    \n",
    "s1 = Student()\n",
    "s1 = Student()\n",
    "s1.printHello()\n",
    "s1.string(\"Hi, I am Hrishabh Jain\")"
   ]
  },
  {
   "cell_type": "code",
   "execution_count": 27,
   "id": "5ebaa519",
   "metadata": {},
   "outputs": [
    {
     "name": "stdout",
     "output_type": "stream",
     "text": [
      "{'__module__': '__main__', 'totalStudents': 60, 'classTeacherName': 'Suresh', '__dict__': <attribute '__dict__' of 'Student' objects>, '__weakref__': <attribute '__weakref__' of 'Student' objects>, '__doc__': None}\n"
     ]
    }
   ],
   "source": [
    "print(Student.__dict__)"
   ]
  },
  {
   "cell_type": "code",
   "execution_count": 32,
   "id": "18ff4e36",
   "metadata": {},
   "outputs": [
    {
     "ename": "TypeError",
     "evalue": "printHello() missing 1 required positional argument: 'self'",
     "output_type": "error",
     "traceback": [
      "\u001b[0;31m---------------------------------------------------------------------------\u001b[0m",
      "\u001b[0;31mTypeError\u001b[0m                                 Traceback (most recent call last)",
      "\u001b[0;32m/var/folders/8x/lnjll14x2yl0_pfk5q7znhhw0000gn/T/ipykernel_44634/697236718.py\u001b[0m in \u001b[0;36m<module>\u001b[0;34m\u001b[0m\n\u001b[0;32m----> 1\u001b[0;31m \u001b[0mStudent\u001b[0m\u001b[0;34m.\u001b[0m\u001b[0mprintHello\u001b[0m\u001b[0;34m(\u001b[0m\u001b[0;34m)\u001b[0m\u001b[0;34m\u001b[0m\u001b[0;34m\u001b[0m\u001b[0m\n\u001b[0m",
      "\u001b[0;31mTypeError\u001b[0m: printHello() missing 1 required positional argument: 'self'"
     ]
    }
   ],
   "source": [
    "Student.printHello()"
   ]
  },
  {
   "cell_type": "code",
   "execution_count": 33,
   "id": "9b1bdd2e",
   "metadata": {},
   "outputs": [
    {
     "name": "stdout",
     "output_type": "stream",
     "text": [
      "hello\n"
     ]
    }
   ],
   "source": [
    "Student.printHello(s1)"
   ]
  },
  {
   "cell_type": "code",
   "execution_count": null,
   "id": "f25fd3f6",
   "metadata": {},
   "outputs": [],
   "source": [
    "s1.name = \"Hrishabh\""
   ]
  },
  {
   "cell_type": "code",
   "execution_count": null,
   "id": "b4879bef",
   "metadata": {},
   "outputs": [],
   "source": []
  },
  {
   "cell_type": "code",
   "execution_count": null,
   "id": "c214118c",
   "metadata": {},
   "outputs": [],
   "source": []
  },
  {
   "cell_type": "code",
   "execution_count": null,
   "id": "9ee480f2",
   "metadata": {},
   "outputs": [],
   "source": []
  },
  {
   "cell_type": "code",
   "execution_count": null,
   "id": "b9796969",
   "metadata": {},
   "outputs": [],
   "source": []
  },
  {
   "cell_type": "code",
   "execution_count": null,
   "id": "91f0ea08",
   "metadata": {},
   "outputs": [],
   "source": []
  },
  {
   "cell_type": "code",
   "execution_count": null,
   "id": "1c88797d",
   "metadata": {},
   "outputs": [],
   "source": []
  },
  {
   "cell_type": "code",
   "execution_count": null,
   "id": "5fe2a49f",
   "metadata": {},
   "outputs": [],
   "source": []
  },
  {
   "cell_type": "code",
   "execution_count": null,
   "id": "21aac110",
   "metadata": {},
   "outputs": [],
   "source": []
  },
  {
   "cell_type": "code",
   "execution_count": null,
   "id": "ddc31986",
   "metadata": {},
   "outputs": [],
   "source": []
  }
 ],
 "metadata": {
  "kernelspec": {
   "display_name": "Python 3 (ipykernel)",
   "language": "python",
   "name": "python3"
  },
  "language_info": {
   "codemirror_mode": {
    "name": "ipython",
    "version": 3
   },
   "file_extension": ".py",
   "mimetype": "text/x-python",
   "name": "python",
   "nbconvert_exporter": "python",
   "pygments_lexer": "ipython3",
   "version": "3.9.7"
  }
 },
 "nbformat": 4,
 "nbformat_minor": 5
}
