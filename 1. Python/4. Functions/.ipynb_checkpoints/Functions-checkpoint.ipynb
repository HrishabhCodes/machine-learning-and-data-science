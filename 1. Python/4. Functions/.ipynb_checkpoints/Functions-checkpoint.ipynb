{
 "cells": [
  {
   "cell_type": "code",
   "execution_count": 6,
   "id": "c768426c",
   "metadata": {},
   "outputs": [
    {
     "name": "stdout",
     "output_type": "stream",
     "text": [
      "4\n",
      "2\n"
     ]
    },
    {
     "data": {
      "text/plain": [
       "6"
      ]
     },
     "execution_count": 6,
     "metadata": {},
     "output_type": "execute_result"
    }
   ],
   "source": [
    "n = int(input())\n",
    "r = int(input())\n",
    "\n",
    "n_fact = fact(n)\n",
    "r_fact = fact(r)\n",
    "diff_fact = fact(n-r)\n",
    "\n",
    "def fact(n):\n",
    "    ans = 1\n",
    "    for i in range(1,n + 1):\n",
    "        ans *= i\n",
    "    return ans\n",
    "\n",
    "\n",
    "fact(n)//(fact(r)*fact(n-r))"
   ]
  },
  {
   "cell_type": "code",
   "execution_count": 12,
   "id": "84d582c5",
   "metadata": {},
   "outputs": [
    {
     "name": "stdout",
     "output_type": "stream",
     "text": [
      "17\n"
     ]
    },
    {
     "data": {
      "text/plain": [
       "True"
      ]
     },
     "execution_count": 12,
     "metadata": {},
     "output_type": "execute_result"
    }
   ],
   "source": [
    "def isPrime(n):\n",
    "    for i in range(2, n):\n",
    "        if n % i == 0:\n",
    "            return False\n",
    "    return True\n",
    "\n",
    "n = int(input())\n",
    "isPrime(n)"
   ]
  },
  {
   "cell_type": "code",
   "execution_count": 14,
   "id": "eded594c",
   "metadata": {},
   "outputs": [
    {
     "name": "stdout",
     "output_type": "stream",
     "text": [
      "2\n",
      "3\n",
      "5\n",
      "7\n",
      "11\n",
      "13\n",
      "17\n",
      "19\n"
     ]
    }
   ],
   "source": [
    "#  All prime numbers from 2 to N\n",
    "\n",
    "def primes2toN(n):\n",
    "    for i in range(2, n+1):\n",
    "        if isPrime(i):\n",
    "            print(i)\n",
    "            \n",
    "primes2toN(20)"
   ]
  },
  {
   "cell_type": "code",
   "execution_count": 15,
   "id": "837d2adc",
   "metadata": {},
   "outputs": [
    {
     "data": {
      "text/plain": [
       "6"
      ]
     },
     "execution_count": 15,
     "metadata": {},
     "output_type": "execute_result"
    }
   ],
   "source": [
    "def ncr(n, r):\n",
    "    return fact(n)//(fact(r)*fact(n-r))\n",
    "ncr(4,2)"
   ]
  },
  {
   "cell_type": "code",
   "execution_count": 24,
   "id": "f4b69f6c",
   "metadata": {},
   "outputs": [
    {
     "data": {
      "text/plain": [
       "[4, 3, 45, 5, 5, 43, 2, 1]"
      ]
     },
     "execution_count": 24,
     "metadata": {},
     "output_type": "execute_result"
    }
   ],
   "source": [
    "l = [1,2,43,5,5,45,3,4]\n",
    "\n",
    "def reverse(l):\n",
    "    a = []\n",
    "    for i in range(len(l)-1, -1, -1):\n",
    "        a.append(l[i]) \n",
    "    return a\n",
    "reverse(l)"
   ]
  },
  {
   "cell_type": "code",
   "execution_count": 29,
   "id": "1373c3a2",
   "metadata": {},
   "outputs": [
    {
     "data": {
      "text/plain": [
       "[2, 1, 5, 43, 45, 5, 4, 3]"
      ]
     },
     "execution_count": 29,
     "metadata": {},
     "output_type": "execute_result"
    }
   ],
   "source": [
    "def swap(l, i, j):\n",
    "    temp = l[i]\n",
    "    l[i] = l[j]\n",
    "    l[j] = temp\n",
    "\n",
    "def swapAlt(l):\n",
    "    if len(l)%2==0:\n",
    "        for i in range(0, len(l), 2):\n",
    "            swap(l, i, i+1)\n",
    "    else:\n",
    "        for i in range(0, len(l)-1, 2):\n",
    "            swap(l, i, i+1)\n",
    "    return l\n",
    "\n",
    "swapAlt(l)"
   ]
  },
  {
   "cell_type": "code",
   "execution_count": null,
   "id": "da68f49c",
   "metadata": {},
   "outputs": [],
   "source": [
    "def swapConsecutive(l):\n",
    "    i = 0\n",
    "    while i+1<len(l):\n",
    "        l[i], l[i+1] = l[i+1], l[i]"
   ]
  },
  {
   "cell_type": "code",
   "execution_count": null,
   "id": "89d587e7",
   "metadata": {},
   "outputs": [],
   "source": []
  },
  {
   "cell_type": "code",
   "execution_count": null,
   "id": "95da465d",
   "metadata": {},
   "outputs": [],
   "source": []
  },
  {
   "cell_type": "code",
   "execution_count": null,
   "id": "703243a0",
   "metadata": {},
   "outputs": [],
   "source": []
  },
  {
   "cell_type": "code",
   "execution_count": null,
   "id": "5201b026",
   "metadata": {},
   "outputs": [],
   "source": []
  },
  {
   "cell_type": "code",
   "execution_count": null,
   "id": "151bd998",
   "metadata": {},
   "outputs": [],
   "source": []
  },
  {
   "cell_type": "code",
   "execution_count": null,
   "id": "608edfe6",
   "metadata": {},
   "outputs": [],
   "source": []
  }
 ],
 "metadata": {
  "kernelspec": {
   "display_name": "Python 3 (ipykernel)",
   "language": "python",
   "name": "python3"
  },
  "language_info": {
   "codemirror_mode": {
    "name": "ipython",
    "version": 3
   },
   "file_extension": ".py",
   "mimetype": "text/x-python",
   "name": "python",
   "nbconvert_exporter": "python",
   "pygments_lexer": "ipython3",
   "version": "3.9.7"
  }
 },
 "nbformat": 4,
 "nbformat_minor": 5
}
