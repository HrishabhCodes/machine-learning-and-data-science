{
 "cells": [
  {
   "cell_type": "markdown",
   "id": "48b33e4b",
   "metadata": {},
   "source": [
    "### Compatibility Rules:\n",
    "1. Equal sizes\n",
    "2. One of them is 1\n",
    "\n",
    "Examples:\n",
    "\n",
    "- ✅ X → [2,3] ; Y → [2,3]\n",
    "- ❌ X → [2,1] ; Y → [2,3]\n",
    "- ✅ X → [3,3] ; Y → [3] basically means (1, 3)"
   ]
  },
  {
   "cell_type": "code",
   "execution_count": 3,
   "id": "b2215c23",
   "metadata": {},
   "outputs": [
    {
     "name": "stdout",
     "output_type": "stream",
     "text": [
      "[[5 1 8]\n",
      " [2 8 3]\n",
      " [7 3 1]]\n",
      "\n",
      "[[8 7 5]\n",
      " [3 2 7]\n",
      " [8 8 1]]\n"
     ]
    }
   ],
   "source": [
    "import numpy as np\n",
    "\n",
    "x = np.random.randint(1, 10, (3,3))\n",
    "y = np.random.randint(1, 10, (3,3))\n",
    "\n",
    "print(x)\n",
    "print()\n",
    "print(y)"
   ]
  },
  {
   "cell_type": "code",
   "execution_count": 4,
   "id": "5ec381f8",
   "metadata": {},
   "outputs": [
    {
     "name": "stdout",
     "output_type": "stream",
     "text": [
      "[[-3 -6  3]\n",
      " [-1  6 -4]\n",
      " [-1 -5  0]]\n"
     ]
    }
   ],
   "source": [
    "ans = x - y\n",
    "print(ans)"
   ]
  },
  {
   "cell_type": "code",
   "execution_count": 9,
   "id": "18287313",
   "metadata": {},
   "outputs": [
    {
     "name": "stdout",
     "output_type": "stream",
     "text": [
      "[[1 8 6]\n",
      " [9 5 8]\n",
      " [1 5 9]]\n",
      "\n",
      "[4 8 6]\n"
     ]
    }
   ],
   "source": [
    "import numpy as np\n",
    "\n",
    "x = np.random.randint(1, 10, (3,3))\n",
    "y = np.random.randint(1, 10, (3))\n",
    "\n",
    "print(x)\n",
    "print()\n",
    "print(y)"
   ]
  },
  {
   "cell_type": "code",
   "execution_count": 10,
   "id": "9015a6d1",
   "metadata": {},
   "outputs": [
    {
     "name": "stdout",
     "output_type": "stream",
     "text": [
      "[[-3  0  0]\n",
      " [ 5 -3  2]\n",
      " [-3 -3  3]]\n"
     ]
    }
   ],
   "source": [
    "ans = x - y\n",
    "print(ans)"
   ]
  },
  {
   "cell_type": "code",
   "execution_count": 11,
   "id": "e192d910",
   "metadata": {},
   "outputs": [
    {
     "name": "stdout",
     "output_type": "stream",
     "text": [
      "[[9 6]\n",
      " [4 7]\n",
      " [1 9]]\n",
      "\n",
      "[[1 8 1]\n",
      " [3 5 5]]\n"
     ]
    }
   ],
   "source": [
    "import numpy as np\n",
    "\n",
    "x = np.random.randint(1, 10, (3,2))\n",
    "y = np.random.randint(1, 10, (2,3))\n",
    "\n",
    "print(x)\n",
    "print()\n",
    "print(y)"
   ]
  },
  {
   "cell_type": "code",
   "execution_count": 12,
   "id": "46abe281",
   "metadata": {},
   "outputs": [
    {
     "ename": "ValueError",
     "evalue": "operands could not be broadcast together with shapes (3,2) (2,3) ",
     "output_type": "error",
     "traceback": [
      "\u001b[0;31m---------------------------------------------------------------------------\u001b[0m",
      "\u001b[0;31mValueError\u001b[0m                                Traceback (most recent call last)",
      "\u001b[0;32m/var/folders/8x/lnjll14x2yl0_pfk5q7znhhw0000gn/T/ipykernel_43322/2142952329.py\u001b[0m in \u001b[0;36m<module>\u001b[0;34m\u001b[0m\n\u001b[0;32m----> 1\u001b[0;31m \u001b[0mans\u001b[0m \u001b[0;34m=\u001b[0m \u001b[0mx\u001b[0m \u001b[0;34m-\u001b[0m \u001b[0my\u001b[0m\u001b[0;34m\u001b[0m\u001b[0;34m\u001b[0m\u001b[0m\n\u001b[0m\u001b[1;32m      2\u001b[0m \u001b[0mprint\u001b[0m\u001b[0;34m(\u001b[0m\u001b[0mans\u001b[0m\u001b[0;34m)\u001b[0m\u001b[0;34m\u001b[0m\u001b[0;34m\u001b[0m\u001b[0m\n",
      "\u001b[0;31mValueError\u001b[0m: operands could not be broadcast together with shapes (3,2) (2,3) "
     ]
    }
   ],
   "source": [
    "ans = x - y\n",
    "print(ans)"
   ]
  },
  {
   "cell_type": "code",
   "execution_count": null,
   "id": "64b76409",
   "metadata": {},
   "outputs": [],
   "source": [
    "## How can we overcome this?"
   ]
  },
  {
   "cell_type": "code",
   "execution_count": null,
   "id": "576ccc81",
   "metadata": {},
   "outputs": [],
   "source": [
    "# 1. Transpose"
   ]
  },
  {
   "cell_type": "code",
   "execution_count": null,
   "id": "e9fc7df7",
   "metadata": {},
   "outputs": [],
   "source": []
  },
  {
   "cell_type": "code",
   "execution_count": null,
   "id": "d36091c3",
   "metadata": {},
   "outputs": [],
   "source": []
  },
  {
   "cell_type": "code",
   "execution_count": null,
   "id": "844ce972",
   "metadata": {},
   "outputs": [],
   "source": []
  }
 ],
 "metadata": {
  "kernelspec": {
   "display_name": "Python 3 (ipykernel)",
   "language": "python",
   "name": "python3"
  },
  "language_info": {
   "codemirror_mode": {
    "name": "ipython",
    "version": 3
   },
   "file_extension": ".py",
   "mimetype": "text/x-python",
   "name": "python",
   "nbconvert_exporter": "python",
   "pygments_lexer": "ipython3",
   "version": "3.9.7"
  }
 },
 "nbformat": 4,
 "nbformat_minor": 5
}
